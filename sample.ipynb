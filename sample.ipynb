{
 "cells": [
  {
   "metadata": {},
   "cell_type": "markdown",
   "source": [
    "# Battery Material Specific Capacity Prediction\n",
    "This project predicts specific capacity (mAh/g) of lithium-ion battery materials using machine learning."
   ],
   "id": "8a77807f92f26ee"
  },
  {
   "metadata": {
    "ExecuteTime": {
     "end_time": "2025-07-22T16:29:47.455262Z",
     "start_time": "2025-07-22T16:29:47.440700Z"
    }
   },
   "cell_type": "code",
   "source": [
    "import pymatgen\n",
    "import matminer\n",
    "import pandas\n",
    "import numpy\n",
    "import sklearn\n",
    "import xgboost\n",
    "import shap\n",
    "import matplotlib\n",
    "import seaborn\n",
    "print(\"All libraries imported successfully.\")"
   ],
   "id": "fbc121e30a2defb3",
   "outputs": [
    {
     "name": "stdout",
     "output_type": "stream",
     "text": [
      "All libraries imported successfully.\n"
     ]
    }
   ],
   "execution_count": 9
  },
  {
   "metadata": {
    "ExecuteTime": {
     "end_time": "2025-07-22T16:28:50.077543Z",
     "start_time": "2025-07-22T16:28:50.065501Z"
    }
   },
   "cell_type": "code",
   "source": "print(\"This is a second cell.\")",
   "id": "44615c8fc6f8d97f",
   "outputs": [
    {
     "name": "stdout",
     "output_type": "stream",
     "text": [
      "This is a second cell.\n"
     ]
    }
   ],
   "execution_count": 6
  },
  {
   "metadata": {},
   "cell_type": "code",
   "outputs": [],
   "execution_count": null,
   "source": "",
   "id": "29de792d77270298"
  }
 ],
 "metadata": {
  "kernelspec": {
   "display_name": "Python 3",
   "language": "python",
   "name": "python3"
  },
  "language_info": {
   "codemirror_mode": {
    "name": "ipython",
    "version": 2
   },
   "file_extension": ".py",
   "mimetype": "text/x-python",
   "name": "python",
   "nbconvert_exporter": "python",
   "pygments_lexer": "ipython2",
   "version": "2.7.6"
  }
 },
 "nbformat": 4,
 "nbformat_minor": 5
}
