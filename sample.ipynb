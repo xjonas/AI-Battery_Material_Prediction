{
 "cells": [
  {
   "metadata": {},
   "cell_type": "markdown",
   "source": "# Band Gap Prediction for Nitride-Based Solid-State Electrolytes Using Machine Learning",
   "id": "8a77807f92f26ee"
  },
  {
   "metadata": {
    "ExecuteTime": {
     "end_time": "2025-07-24T19:55:40.380246Z",
     "start_time": "2025-07-24T19:55:40.332520Z"
    }
   },
   "cell_type": "code",
   "source": [
    "import pandas as pd\n",
    "import numpy as np\n",
    "from mp_api.client import MPRester\n",
    "print(\"All libraries imported successfully.\")\n",
    "\n",
    "# Replace with your API key\n",
    "# Get from https://materialsproject.org/open\n",
    "API_KEY = \"UWFBjghRwpm3Rk7ytx3G4uvRGGz6OG5R\""
   ],
   "id": "fbc121e30a2defb3",
   "outputs": [
    {
     "name": "stdout",
     "output_type": "stream",
     "text": [
      "All libraries imported successfully.\n"
     ]
    }
   ],
   "execution_count": 11
  },
  {
   "metadata": {},
   "cell_type": "markdown",
   "source": [
    "MPRester uses the latest mp-api client (2025 documentation) to query the materials.summary endpoint.\n",
    "\n",
    "- **Targeted Filtering**: Uses specific filters (`elements=[\"N\"]`, `exclude_elements=[\"S\", \"O\"]`) to focus on pure nitrides, excluding oxynitrides and thionitrides.\n",
    "- **Stability Consideration**: Limits `energy_above_hull` to ≤0.15 eV for stable or near-stable compounds, suitable for practical electrolyte applications.\n",
    "- **Data Conversion**: Converts query results to a pandas DataFrame and saves to CSV for reproducibility and downstream analysis.\n",
    "\n",
    "Output: csv with ~3,000 entries"
   ],
   "id": "9a27ac610a37bf71"
  },
  {
   "metadata": {
    "ExecuteTime": {
     "end_time": "2025-07-24T20:11:48.498645Z",
     "start_time": "2025-07-24T20:11:43.464608Z"
    }
   },
   "cell_type": "code",
   "source": [
    "def get_electrolyte_data():\n",
    "    with MPRester(API_KEY) as mpr:\n",
    "        # Filters for nitride-based electrolytes\n",
    "        elements = [\"N\"]            # Must include nitrogen and lithium\n",
    "        exlude_elements = [\"S\", \"O\"]      # Filter out oxynitrides and thionitrides\n",
    "        num_elements = (2, 6)            # 2–6 elements for simple and complex nitrides\n",
    "\n",
    "        # Required features\n",
    "        fields = [\n",
    "            \"material_id\",\n",
    "            \"formula_pretty\",\n",
    "            \"band_gap\",\n",
    "            \"volume\",\n",
    "            \"cbm\",                    # Conduction band minimum\n",
    "            \"density\",\n",
    "            \"density_atomic\",\n",
    "            \"efermi\",\n",
    "            \"energy_above_hull\",\n",
    "            \"num_magnetic_sites\",\n",
    "            \"num_unique_magnetic_sites\"\n",
    "        ]\n",
    "\n",
    "        # Query for nitride materials\n",
    "        try:\n",
    "            print(\"Querying Materials Project with filters:\")\n",
    "            docs = mpr.materials.summary.search(\n",
    "                elements=elements,\n",
    "                exclude_elements=exlude_elements,\n",
    "                num_elements=num_elements,\n",
    "                energy_above_hull=(None, 0.15), # Stable or near-stable\n",
    "                fields=fields,\n",
    "                chunk_size=500\n",
    "            )\n",
    "            print(f\"Retrieved {len(docs)} materials\")\n",
    "            return docs\n",
    "        except Exception as e:\n",
    "            print(f\"Error querying Materials Project: {e}\")\n",
    "            return []\n",
    "\n",
    "docs = get_electrolyte_data()\n",
    "\n",
    "df = pd.DataFrame([doc.dict() for doc in docs])\n",
    "\n",
    "print(f\"Collected {len(df)} materials\")\n",
    "print(f\"Features: {list(df.columns)}\")\n",
    "\n",
    "print(\"First few rows of the DataFrame:\")\n",
    "print(df.head())\n",
    "# Save raw data\n",
    "df.to_csv(\"nitride_electrolyte_data.csv\", index=False)"
   ],
   "id": "44615c8fc6f8d97f",
   "outputs": [
    {
     "name": "stdout",
     "output_type": "stream",
     "text": [
      "Querying Materials Project with filters:\n"
     ]
    },
    {
     "name": "stderr",
     "output_type": "stream",
     "text": [
      "Retrieving SummaryDoc documents: 100%|██████████| 3055/3055 [00:02<00:00, 1033.58it/s]\n"
     ]
    },
    {
     "name": "stdout",
     "output_type": "stream",
     "text": [
      "Retrieved 3055 materials\n",
      "Collected 3055 materials\n",
      "Features: ['builder_meta', 'nsites', 'elements', 'nelements', 'composition', 'composition_reduced', 'formula_pretty', 'formula_anonymous', 'chemsys', 'volume', 'density', 'density_atomic', 'symmetry', 'property_name', 'material_id', 'deprecated', 'deprecation_reasons', 'last_updated', 'origins', 'warnings', 'structure', 'task_ids', 'uncorrected_energy_per_atom', 'energy_per_atom', 'formation_energy_per_atom', 'energy_above_hull', 'is_stable', 'equilibrium_reaction_energy_per_atom', 'decomposes_to', 'xas', 'grain_boundaries', 'band_gap', 'cbm', 'vbm', 'efermi', 'is_gap_direct', 'is_metal', 'es_source_calc_id', 'bandstructure', 'dos', 'dos_energy_up', 'dos_energy_down', 'is_magnetic', 'ordering', 'total_magnetization', 'total_magnetization_normalized_vol', 'total_magnetization_normalized_formula_units', 'num_magnetic_sites', 'num_unique_magnetic_sites', 'types_of_magnetic_species', 'bulk_modulus', 'shear_modulus', 'universal_anisotropy', 'homogeneous_poisson', 'e_total', 'e_ionic', 'e_electronic', 'n', 'e_ij_max', 'weighted_surface_energy_EV_PER_ANG2', 'weighted_surface_energy', 'weighted_work_function', 'surface_anisotropy', 'shape_factor', 'has_reconstructed', 'possible_species', 'has_props', 'theoretical', 'database_Ids', 'fields_not_requested']\n",
      "First few rows of the DataFrame:\n",
      "  builder_meta nsites elements nelements composition composition_reduced  \\\n",
      "0         None   None     None      None        None                None   \n",
      "1         None   None     None      None        None                None   \n",
      "2         None   None     None      None        None                None   \n",
      "3         None   None     None      None        None                None   \n",
      "4         None   None     None      None        None                None   \n",
      "\n",
      "        formula_pretty formula_anonymous chemsys       volume  ...  \\\n",
      "0                  AcN              None    None    99.880235  ...   \n",
      "1  Ag12Sn7H16(Se11N2)2              None    None  2674.306188  ...   \n",
      "2          AgB10H26C6N              None    None  1618.176626  ...   \n",
      "3        AgBH8C4(N2F)4              None    None   563.940511  ...   \n",
      "4          AgH12C4Se5N              None    None   686.246239  ...   \n",
      "\n",
      "   weighted_surface_energy  weighted_work_function surface_anisotropy  \\\n",
      "0                     None                    None               None   \n",
      "1                     None                    None               None   \n",
      "2                     None                    None               None   \n",
      "3                     None                    None               None   \n",
      "4                     None                    None               None   \n",
      "\n",
      "  shape_factor has_reconstructed possible_species has_props theoretical  \\\n",
      "0         None              None             None      None        None   \n",
      "1         None              None             None      None        None   \n",
      "2         None              None             None      None        None   \n",
      "3         None              None             None      None        None   \n",
      "4         None              None             None      None        None   \n",
      "\n",
      "  database_Ids                               fields_not_requested  \n",
      "0         None  [builder_meta, nsites, elements, nelements, co...  \n",
      "1         None  [builder_meta, nsites, elements, nelements, co...  \n",
      "2         None  [builder_meta, nsites, elements, nelements, co...  \n",
      "3         None  [builder_meta, nsites, elements, nelements, co...  \n",
      "4         None  [builder_meta, nsites, elements, nelements, co...  \n",
      "\n",
      "[5 rows x 70 columns]\n"
     ]
    }
   ],
   "execution_count": 13
  },
  {
   "metadata": {},
   "cell_type": "code",
   "outputs": [],
   "execution_count": null,
   "source": "",
   "id": "b165b9d73f49de6"
  }
 ],
 "metadata": {
  "kernelspec": {
   "display_name": "Python 3",
   "language": "python",
   "name": "python3"
  },
  "language_info": {
   "codemirror_mode": {
    "name": "ipython",
    "version": 2
   },
   "file_extension": ".py",
   "mimetype": "text/x-python",
   "name": "python",
   "nbconvert_exporter": "python",
   "pygments_lexer": "ipython2",
   "version": "2.7.6"
  }
 },
 "nbformat": 4,
 "nbformat_minor": 5
}
